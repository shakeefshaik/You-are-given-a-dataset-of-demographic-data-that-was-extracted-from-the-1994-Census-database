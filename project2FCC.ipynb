{
 "cells": [
  {
   "cell_type": "code",
   "execution_count": 1,
   "metadata": {},
   "outputs": [],
   "source": [
    "import numpy as np\n",
    "import pandas as pd"
   ]
  },
  {
   "cell_type": "code",
   "execution_count": 2,
   "metadata": {},
   "outputs": [
    {
     "data": {
      "text/html": [
       "<div>\n",
       "<style scoped>\n",
       "    .dataframe tbody tr th:only-of-type {\n",
       "        vertical-align: middle;\n",
       "    }\n",
       "\n",
       "    .dataframe tbody tr th {\n",
       "        vertical-align: top;\n",
       "    }\n",
       "\n",
       "    .dataframe thead th {\n",
       "        text-align: right;\n",
       "    }\n",
       "</style>\n",
       "<table border=\"1\" class=\"dataframe\">\n",
       "  <thead>\n",
       "    <tr style=\"text-align: right;\">\n",
       "      <th></th>\n",
       "      <th>age</th>\n",
       "      <th>workclass</th>\n",
       "      <th>fnlwgt</th>\n",
       "      <th>education</th>\n",
       "      <th>educational-num</th>\n",
       "      <th>marital-status</th>\n",
       "      <th>occupation</th>\n",
       "      <th>relationship</th>\n",
       "      <th>race</th>\n",
       "      <th>gender</th>\n",
       "      <th>capital-gain</th>\n",
       "      <th>capital-loss</th>\n",
       "      <th>hours-per-week</th>\n",
       "      <th>native-country</th>\n",
       "      <th>income</th>\n",
       "    </tr>\n",
       "  </thead>\n",
       "  <tbody>\n",
       "    <tr>\n",
       "      <th>0</th>\n",
       "      <td>25</td>\n",
       "      <td>Private</td>\n",
       "      <td>226802</td>\n",
       "      <td>11th</td>\n",
       "      <td>7</td>\n",
       "      <td>Never-married</td>\n",
       "      <td>Machine-op-inspct</td>\n",
       "      <td>Own-child</td>\n",
       "      <td>Black</td>\n",
       "      <td>Male</td>\n",
       "      <td>0</td>\n",
       "      <td>0</td>\n",
       "      <td>40</td>\n",
       "      <td>United-States</td>\n",
       "      <td>&lt;=50K</td>\n",
       "    </tr>\n",
       "    <tr>\n",
       "      <th>1</th>\n",
       "      <td>38</td>\n",
       "      <td>Private</td>\n",
       "      <td>89814</td>\n",
       "      <td>HS-grad</td>\n",
       "      <td>9</td>\n",
       "      <td>Married-civ-spouse</td>\n",
       "      <td>Farming-fishing</td>\n",
       "      <td>Husband</td>\n",
       "      <td>White</td>\n",
       "      <td>Male</td>\n",
       "      <td>0</td>\n",
       "      <td>0</td>\n",
       "      <td>50</td>\n",
       "      <td>United-States</td>\n",
       "      <td>&lt;=50K</td>\n",
       "    </tr>\n",
       "    <tr>\n",
       "      <th>2</th>\n",
       "      <td>28</td>\n",
       "      <td>Local-gov</td>\n",
       "      <td>336951</td>\n",
       "      <td>Assoc-acdm</td>\n",
       "      <td>12</td>\n",
       "      <td>Married-civ-spouse</td>\n",
       "      <td>Protective-serv</td>\n",
       "      <td>Husband</td>\n",
       "      <td>White</td>\n",
       "      <td>Male</td>\n",
       "      <td>0</td>\n",
       "      <td>0</td>\n",
       "      <td>40</td>\n",
       "      <td>United-States</td>\n",
       "      <td>&gt;50K</td>\n",
       "    </tr>\n",
       "    <tr>\n",
       "      <th>3</th>\n",
       "      <td>44</td>\n",
       "      <td>Private</td>\n",
       "      <td>160323</td>\n",
       "      <td>Some-college</td>\n",
       "      <td>10</td>\n",
       "      <td>Married-civ-spouse</td>\n",
       "      <td>Machine-op-inspct</td>\n",
       "      <td>Husband</td>\n",
       "      <td>Black</td>\n",
       "      <td>Male</td>\n",
       "      <td>7688</td>\n",
       "      <td>0</td>\n",
       "      <td>40</td>\n",
       "      <td>United-States</td>\n",
       "      <td>&gt;50K</td>\n",
       "    </tr>\n",
       "    <tr>\n",
       "      <th>4</th>\n",
       "      <td>18</td>\n",
       "      <td>?</td>\n",
       "      <td>103497</td>\n",
       "      <td>Some-college</td>\n",
       "      <td>10</td>\n",
       "      <td>Never-married</td>\n",
       "      <td>?</td>\n",
       "      <td>Own-child</td>\n",
       "      <td>White</td>\n",
       "      <td>Female</td>\n",
       "      <td>0</td>\n",
       "      <td>0</td>\n",
       "      <td>30</td>\n",
       "      <td>United-States</td>\n",
       "      <td>&lt;=50K</td>\n",
       "    </tr>\n",
       "  </tbody>\n",
       "</table>\n",
       "</div>"
      ],
      "text/plain": [
       "   age  workclass  fnlwgt     education  educational-num      marital-status  \\\n",
       "0   25    Private  226802          11th                7       Never-married   \n",
       "1   38    Private   89814       HS-grad                9  Married-civ-spouse   \n",
       "2   28  Local-gov  336951    Assoc-acdm               12  Married-civ-spouse   \n",
       "3   44    Private  160323  Some-college               10  Married-civ-spouse   \n",
       "4   18          ?  103497  Some-college               10       Never-married   \n",
       "\n",
       "          occupation relationship   race  gender  capital-gain  capital-loss  \\\n",
       "0  Machine-op-inspct    Own-child  Black    Male             0             0   \n",
       "1    Farming-fishing      Husband  White    Male             0             0   \n",
       "2    Protective-serv      Husband  White    Male             0             0   \n",
       "3  Machine-op-inspct      Husband  Black    Male          7688             0   \n",
       "4                  ?    Own-child  White  Female             0             0   \n",
       "\n",
       "   hours-per-week native-country income  \n",
       "0              40  United-States  <=50K  \n",
       "1              50  United-States  <=50K  \n",
       "2              40  United-States   >50K  \n",
       "3              40  United-States   >50K  \n",
       "4              30  United-States  <=50K  "
      ]
     },
     "execution_count": 2,
     "metadata": {},
     "output_type": "execute_result"
    }
   ],
   "source": [
    "adult_data =pd.read_csv(r\"C:\\Users\\sunny\\Downloads\\adult.csv\")\n",
    "adult_data.head()"
   ]
  },
  {
   "cell_type": "markdown",
   "metadata": {},
   "source": [
    "How many people of each race are represented in this dataset? This should be a Pandas series with race names as the index labels. (race column)"
   ]
  },
  {
   "cell_type": "code",
   "execution_count": 5,
   "metadata": {},
   "outputs": [
    {
     "name": "stdout",
     "output_type": "stream",
     "text": [
      "race\n",
      "White                 41762\n",
      "Black                  4685\n",
      "Asian-Pac-Islander     1519\n",
      "Amer-Indian-Eskimo      470\n",
      "Other                   406\n",
      "Name: count, dtype: int64\n"
     ]
    }
   ],
   "source": [
    "\n",
    "\n",
    "# Count the number of people of each race\n",
    "race_counts = adult_data['race'].value_counts()\n",
    "\n",
    "# Display the result\n",
    "print(race_counts)\n"
   ]
  },
  {
   "cell_type": "markdown",
   "metadata": {},
   "source": [
    "What is the average age of men?"
   ]
  },
  {
   "cell_type": "code",
   "execution_count": 6,
   "metadata": {},
   "outputs": [
    {
     "name": "stdout",
     "output_type": "stream",
     "text": [
      "The average age of men is: 39.49439509954058\n"
     ]
    }
   ],
   "source": [
    "#here the average means mean of mean so\n",
    "# Filter the data to include only males\n",
    "male_df = adult_data[adult_data['gender'] == 'Male']\n",
    "\n",
    "# Calculate the average age of men\n",
    "average_age_men = male_df['age'].mean()\n",
    "\n",
    "print(\"The average age of men is:\", average_age_men)\n"
   ]
  },
  {
   "cell_type": "markdown",
   "metadata": {},
   "source": [
    "What is the percentage of people who have a Bachelor's degree?"
   ]
  },
  {
   "cell_type": "code",
   "execution_count": 8,
   "metadata": {},
   "outputs": [
    {
     "name": "stdout",
     "output_type": "stream",
     "text": [
      "The percentage of people who have a Bachelor's degree is: 16.430531100282543\n"
     ]
    }
   ],
   "source": [
    "\n",
    "# Count the total number of people\n",
    "total_people = len(adult_data)\n",
    "\n",
    "# Count the number of people with a Bachelor's degree\n",
    "bachelors_count = len(adult_data[adult_data['education'] == 'Bachelors'])\n",
    "\n",
    "# Calculate the percentage\n",
    "percentage_bachelors = (bachelors_count / total_people) * 100\n",
    "\n",
    "print(\"The percentage of people who have a Bachelor's degree is:\", percentage_bachelors)\n"
   ]
  },
  {
   "cell_type": "markdown",
   "metadata": {},
   "source": [
    "What percentage of people with advanced education (Bachelors, Masters, or Doctorate) make more than 50K?"
   ]
  },
  {
   "cell_type": "code",
   "execution_count": 10,
   "metadata": {},
   "outputs": [
    {
     "name": "stdout",
     "output_type": "stream",
     "text": [
      "The percentage of people with advanced education making more than 50K is: 46.14224902447677\n"
     ]
    }
   ],
   "source": [
    "\n",
    "# Filter the data for people with advanced education\n",
    "advanced_education = adult_data[adult_data['education'].isin(['Bachelors', 'Masters', 'Doctorate'])]\n",
    "\n",
    "# Count the total number of people with advanced education\n",
    "total_advanced_education = len(advanced_education)\n",
    "\n",
    "# Count the number of people with advanced education making more than 50K\n",
    "advanced_education_50k = len(advanced_education[advanced_education['income'] == '>50K'])\n",
    "\n",
    "# Calculate the percentage\n",
    "percentage_advanced_education_50k = (advanced_education_50k / total_advanced_education) * 100\n",
    "\n",
    "print(\"The percentage of people with advanced education making more than 50K is:\", percentage_advanced_education_50k)\n"
   ]
  },
  {
   "cell_type": "markdown",
   "metadata": {},
   "source": [
    "What percentage of people without advanced education make more than 50K?"
   ]
  },
  {
   "cell_type": "code",
   "execution_count": 12,
   "metadata": {},
   "outputs": [
    {
     "name": "stdout",
     "output_type": "stream",
     "text": [
      "The percentage of people without advanced education making more than 50K is: 17.260288558803172\n"
     ]
    }
   ],
   "source": [
    "\n",
    "# Filter the data for people without advanced education\n",
    "non_advanced_education = adult_data[~adult_data['education'].isin(['Bachelors', 'Masters', 'Doctorate'])]\n",
    "\n",
    "# Count the total number of people without advanced education\n",
    "total_non_advanced_education = len(non_advanced_education)\n",
    "\n",
    "# Count the number of people without advanced education making more than 50K\n",
    "non_advanced_education_50k = len(non_advanced_education[non_advanced_education['income'] == '>50K'])\n",
    "\n",
    "# Calculate the percentage\n",
    "percentage_non_advanced_education_50k = (non_advanced_education_50k / total_non_advanced_education) * 100\n",
    "\n",
    "print(\"The percentage of people without advanced education making more than 50K is:\", percentage_non_advanced_education_50k)\n"
   ]
  },
  {
   "cell_type": "markdown",
   "metadata": {},
   "source": [
    "What is the minimum number of hours a person works per week?"
   ]
  },
  {
   "cell_type": "code",
   "execution_count": 8,
   "metadata": {},
   "outputs": [
    {
     "name": "stdout",
     "output_type": "stream",
     "text": [
      "The minimum number of hours a person works per week is: 1\n"
     ]
    }
   ],
   "source": [
    "\n",
    "# Finding the minimum number of hours a person works per week\n",
    "min_hours_per_week =adult_data['hours-per-week'].min()\n",
    "\n",
    "print(\"The minimum number of hours a person works per week is:\", min_hours_per_week)\n"
   ]
  },
  {
   "cell_type": "markdown",
   "metadata": {},
   "source": [
    "What percentage of the people who work the minimum number of hours per week have a salary of more than 50K?"
   ]
  },
  {
   "cell_type": "code",
   "execution_count": 10,
   "metadata": {},
   "outputs": [
    {
     "name": "stdout",
     "output_type": "stream",
     "text": [
      "The percentage of people who work the minimum number of hours per week and have a salary of more than 50K is: 11.11111111111111\n"
     ]
    }
   ],
   "source": [
    "\n",
    "# Find the minimum number of hours a person works per week\n",
    "min_hours_per_week = adult_data['hours-per-week'].min()\n",
    "\n",
    "# Filter the data for people who work the minimum number of hours per week\n",
    "min_hours_workers = adult_data[adult_data['hours-per-week'] == min_hours_per_week]\n",
    "\n",
    "# Count the total number of people working minimum hours\n",
    "total_min_hours_workers = len(min_hours_workers)\n",
    "\n",
    "# Count the number of people working minimum hours making more than 50K\n",
    "min_hours_workers_50k = len(min_hours_workers[min_hours_workers['income'] == '>50K'])\n",
    "\n",
    "# Calculate the percentage\n",
    "percentage_min_hours_workers_50k = (min_hours_workers_50k / total_min_hours_workers) * 100\n",
    "\n",
    "print(\"The percentage of people who work the minimum number of hours per week and have a salary of more than 50K is:\", percentage_min_hours_workers_50k)\n"
   ]
  },
  {
   "cell_type": "markdown",
   "metadata": {},
   "source": [
    "What country has the highest percentage of people that earn >50K and what is that percentage?"
   ]
  },
  {
   "cell_type": "code",
   "execution_count": 11,
   "metadata": {},
   "outputs": [
    {
     "name": "stdout",
     "output_type": "stream",
     "text": [
      "The country with the highest percentage of people earning >50K is: France\n",
      "The percentage is: 42.10526315789473\n"
     ]
    }
   ],
   "source": [
    "\n",
    "# Group the data by native-country and calculate the percentage of people earning >50K\n",
    "country_salary = adult_data[adult_data['income'] == '>50K'].groupby('native-country').size()\n",
    "country_total = adult_data.groupby('native-country').size()\n",
    "country_percentage = (country_salary / country_total) * 100\n",
    "\n",
    "# Find the country with the highest percentage\n",
    "highest_percentage_country = country_percentage.idxmax()\n",
    "highest_percentage = country_percentage.max()\n",
    "\n",
    "print(\"The country with the highest percentage of people earning >50K is:\", highest_percentage_country)\n",
    "print(\"The percentage is:\", highest_percentage)\n"
   ]
  },
  {
   "cell_type": "markdown",
   "metadata": {},
   "source": [
    "Identify the most popular occupation for those who earn >50K in India."
   ]
  },
  {
   "cell_type": "code",
   "execution_count": 12,
   "metadata": {},
   "outputs": [
    {
     "name": "stdout",
     "output_type": "stream",
     "text": [
      "The most popular occupation for those who earn >50K in India is: Prof-specialty\n"
     ]
    }
   ],
   "source": [
    "\n",
    "# Filter the data for people in India earning more than 50K\n",
    "india_high_earners = adult_data[(adult_data['native-country'] == 'India') & (adult_data['income'] == '>50K')]\n",
    "\n",
    "# Count the occupations\n",
    "occupation_counts = india_high_earners['occupation'].value_counts()\n",
    "\n",
    "# Identify the most popular occupation\n",
    "most_popular_occupation = occupation_counts.idxmax()\n",
    "\n",
    "print(\"The most popular occupation for those who earn >50K in India is:\", most_popular_occupation)\n"
   ]
  },
  {
   "cell_type": "code",
   "execution_count": null,
   "metadata": {},
   "outputs": [],
   "source": []
  }
 ],
 "metadata": {
  "kernelspec": {
   "display_name": "Python 3",
   "language": "python",
   "name": "python3"
  },
  "language_info": {
   "codemirror_mode": {
    "name": "ipython",
    "version": 3
   },
   "file_extension": ".py",
   "mimetype": "text/x-python",
   "name": "python",
   "nbconvert_exporter": "python",
   "pygments_lexer": "ipython3",
   "version": "3.12.3"
  }
 },
 "nbformat": 4,
 "nbformat_minor": 2
}
